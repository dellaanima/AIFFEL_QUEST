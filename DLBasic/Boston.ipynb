{
  "nbformat": 4,
  "nbformat_minor": 0,
  "metadata": {
    "colab": {
      "provenance": [],
      "authorship_tag": "ABX9TyOI6zh2NjoY4IpW4jxhCpj5",
      "include_colab_link": true
    },
    "kernelspec": {
      "name": "python3",
      "display_name": "Python 3"
    },
    "language_info": {
      "name": "python"
    }
  },
  "cells": [
    {
      "cell_type": "markdown",
      "metadata": {
        "id": "view-in-github",
        "colab_type": "text"
      },
      "source": [
        "<a href=\"https://colab.research.google.com/github/dellaanima/AIFFEL_QUEST/blob/master/DLBasic/Boston.ipynb\" target=\"_parent\"><img src=\"https://colab.research.google.com/assets/colab-badge.svg\" alt=\"Open In Colab\"/></a>"
      ]
    },
    {
      "cell_type": "markdown",
      "source": [
        "# 데이터 로드 및 전처리"
      ],
      "metadata": {
        "id": "830ceQS0iCI7"
      }
    },
    {
      "cell_type": "code",
      "execution_count": 12,
      "metadata": {
        "id": "1lW-aRpBgmzX"
      },
      "outputs": [],
      "source": [
        "from tensorflow.keras import models, layers\n",
        "import matplotlib.pyplot as plt"
      ]
    },
    {
      "cell_type": "code",
      "source": [
        "# keras.datasets 안에 boston_housing 데이터셋을 로드합니다.\n",
        "from keras.datasets import boston_housing\n",
        "\n",
        "(train_data, train_labels), (test_data, test_labels) = boston_housing.load_data()\n",
        "\n",
        "# 데이터셋의 크기를 확인합니다.\n",
        "print(len(train_data))\n",
        "print(len(test_data))"
      ],
      "metadata": {
        "colab": {
          "base_uri": "https://localhost:8080/"
        },
        "id": "W4Zbe4vJhgnH",
        "outputId": "61cf4530-64e7-44b0-d018-9227b7cd4f77"
      },
      "execution_count": 13,
      "outputs": [
        {
          "output_type": "stream",
          "name": "stdout",
          "text": [
            "404\n",
            "102\n"
          ]
        }
      ]
    },
    {
      "cell_type": "markdown",
      "source": [
        "표준화 작업"
      ],
      "metadata": {
        "id": "NU1iSaL9iIlb"
      }
    },
    {
      "cell_type": "code",
      "source": [
        "# 컬럼별로 평균 구하기\n",
        "mean = train_data.mean(axis=0)\n",
        "\n",
        "# 컬럼별로 분산 구하기\n",
        "std = train_data.std(axis = 0)\n",
        "\n",
        "train_data = (train_data - mean) / std\n",
        "test_data = (test_data - mean) / std"
      ],
      "metadata": {
        "id": "lfuODTCahvBu"
      },
      "execution_count": 18,
      "outputs": []
    },
    {
      "cell_type": "markdown",
      "source": [
        "# 모델 구성 및 컴파일"
      ],
      "metadata": {
        "id": "5NalYtMNj7ZU"
      }
    },
    {
      "cell_type": "code",
      "source": [
        "from tensorflow.keras import models, layers\n",
        "\n",
        "# 신경망 모델 구성 (예시로 간단한 모델을 사용)\n",
        "model = models.Sequential()\n",
        "model.add(layers.Dense(64, activation='relu', input_shape=(train_data.shape[1],)))\n",
        "model.add(layers.Dense(64, activation='relu'))\n",
        "model.add(layers.Dense(1))\n",
        "\n",
        "# 모델 컴파일 (손실 함수는 평균 제곱 오차(mse) 사용)\n",
        "model.compile(optimizer='rmsprop', loss='mse', metrics=['mae'])\n",
        "\n",
        "# 모델 학습 (예시로 10번의 에포크로 학습)\n",
        "history = model.fit(train_data, train_labels, epochs=100, batch_size=8, validation_data=(test_data, test_labels))\n"
      ],
      "metadata": {
        "colab": {
          "base_uri": "https://localhost:8080/"
        },
        "id": "7WuRsq0lj9dM",
        "outputId": "c1b02ca2-770b-4b2c-fe85-3d64914bfada"
      },
      "execution_count": 34,
      "outputs": [
        {
          "output_type": "stream",
          "name": "stdout",
          "text": [
            "Epoch 1/100\n",
            "51/51 [==============================] - 1s 6ms/step - loss: 376.4345 - mae: 17.3227 - val_loss: 189.0192 - val_mae: 11.8194\n",
            "Epoch 2/100\n",
            "51/51 [==============================] - 0s 2ms/step - loss: 91.1631 - mae: 7.2600 - val_loss: 44.4464 - val_mae: 5.2072\n",
            "Epoch 3/100\n",
            "51/51 [==============================] - 0s 3ms/step - loss: 32.4703 - mae: 4.1416 - val_loss: 27.3092 - val_mae: 4.0952\n",
            "Epoch 4/100\n",
            "51/51 [==============================] - 0s 3ms/step - loss: 22.8217 - mae: 3.3524 - val_loss: 22.7290 - val_mae: 3.7952\n",
            "Epoch 5/100\n",
            "51/51 [==============================] - 0s 2ms/step - loss: 18.7034 - mae: 3.0371 - val_loss: 22.5275 - val_mae: 3.5800\n",
            "Epoch 6/100\n",
            "51/51 [==============================] - 0s 3ms/step - loss: 16.2339 - mae: 2.7607 - val_loss: 21.8556 - val_mae: 3.4970\n",
            "Epoch 7/100\n",
            "51/51 [==============================] - 0s 3ms/step - loss: 14.4510 - mae: 2.6328 - val_loss: 19.4852 - val_mae: 3.1779\n",
            "Epoch 8/100\n",
            "51/51 [==============================] - 0s 3ms/step - loss: 13.5738 - mae: 2.5101 - val_loss: 21.5390 - val_mae: 3.2525\n",
            "Epoch 9/100\n",
            "51/51 [==============================] - 0s 3ms/step - loss: 12.2756 - mae: 2.4438 - val_loss: 20.2119 - val_mae: 3.1011\n",
            "Epoch 10/100\n",
            "51/51 [==============================] - 0s 3ms/step - loss: 11.9929 - mae: 2.3722 - val_loss: 21.6552 - val_mae: 3.1709\n",
            "Epoch 11/100\n",
            "51/51 [==============================] - 0s 3ms/step - loss: 11.1465 - mae: 2.2960 - val_loss: 22.2132 - val_mae: 3.1806\n",
            "Epoch 12/100\n",
            "51/51 [==============================] - 0s 3ms/step - loss: 10.9780 - mae: 2.3203 - val_loss: 19.5704 - val_mae: 2.9126\n",
            "Epoch 13/100\n",
            "51/51 [==============================] - 0s 3ms/step - loss: 10.4840 - mae: 2.2792 - val_loss: 24.5133 - val_mae: 3.3481\n",
            "Epoch 14/100\n",
            "51/51 [==============================] - 0s 2ms/step - loss: 10.4726 - mae: 2.2347 - val_loss: 20.6211 - val_mae: 2.9282\n",
            "Epoch 15/100\n",
            "51/51 [==============================] - 0s 3ms/step - loss: 10.0419 - mae: 2.2169 - val_loss: 20.5929 - val_mae: 3.0517\n",
            "Epoch 16/100\n",
            "51/51 [==============================] - 0s 3ms/step - loss: 10.0113 - mae: 2.2145 - val_loss: 21.3479 - val_mae: 2.9603\n",
            "Epoch 17/100\n",
            "51/51 [==============================] - 0s 3ms/step - loss: 9.6358 - mae: 2.1994 - val_loss: 21.6184 - val_mae: 2.9879\n",
            "Epoch 18/100\n",
            "51/51 [==============================] - 0s 3ms/step - loss: 9.6163 - mae: 2.1845 - val_loss: 22.9628 - val_mae: 3.1253\n",
            "Epoch 19/100\n",
            "51/51 [==============================] - 0s 2ms/step - loss: 9.3146 - mae: 2.1234 - val_loss: 23.9312 - val_mae: 3.2288\n",
            "Epoch 20/100\n",
            "51/51 [==============================] - 0s 3ms/step - loss: 9.2221 - mae: 2.1344 - val_loss: 23.5054 - val_mae: 3.2713\n",
            "Epoch 21/100\n",
            "51/51 [==============================] - 0s 3ms/step - loss: 8.7796 - mae: 2.0767 - val_loss: 23.6521 - val_mae: 3.0782\n",
            "Epoch 22/100\n",
            "51/51 [==============================] - 0s 2ms/step - loss: 8.9918 - mae: 2.1145 - val_loss: 21.9826 - val_mae: 3.0576\n",
            "Epoch 23/100\n",
            "51/51 [==============================] - 0s 2ms/step - loss: 8.9945 - mae: 2.0856 - val_loss: 22.7535 - val_mae: 2.9632\n",
            "Epoch 24/100\n",
            "51/51 [==============================] - 0s 3ms/step - loss: 8.3884 - mae: 2.0697 - val_loss: 19.4248 - val_mae: 2.7512\n",
            "Epoch 25/100\n",
            "51/51 [==============================] - 0s 4ms/step - loss: 8.5858 - mae: 2.0423 - val_loss: 22.1425 - val_mae: 2.9440\n",
            "Epoch 26/100\n",
            "51/51 [==============================] - 0s 4ms/step - loss: 8.5046 - mae: 2.0555 - val_loss: 21.8995 - val_mae: 3.0544\n",
            "Epoch 27/100\n",
            "51/51 [==============================] - 0s 4ms/step - loss: 8.2297 - mae: 2.0451 - val_loss: 24.1014 - val_mae: 3.2749\n",
            "Epoch 28/100\n",
            "51/51 [==============================] - 0s 3ms/step - loss: 8.4196 - mae: 2.0070 - val_loss: 21.4520 - val_mae: 2.8839\n",
            "Epoch 29/100\n",
            "51/51 [==============================] - 0s 4ms/step - loss: 8.0334 - mae: 2.0076 - val_loss: 21.0416 - val_mae: 2.7807\n",
            "Epoch 30/100\n",
            "51/51 [==============================] - 0s 4ms/step - loss: 8.1092 - mae: 1.9927 - val_loss: 21.0167 - val_mae: 2.8798\n",
            "Epoch 31/100\n",
            "51/51 [==============================] - 0s 3ms/step - loss: 7.6196 - mae: 1.9604 - val_loss: 24.3213 - val_mae: 3.0346\n",
            "Epoch 32/100\n",
            "51/51 [==============================] - 0s 4ms/step - loss: 7.9421 - mae: 1.9531 - val_loss: 21.3325 - val_mae: 2.8067\n",
            "Epoch 33/100\n",
            "51/51 [==============================] - 0s 4ms/step - loss: 7.7900 - mae: 1.9665 - val_loss: 21.6178 - val_mae: 2.8151\n",
            "Epoch 34/100\n",
            "51/51 [==============================] - 0s 4ms/step - loss: 7.8374 - mae: 1.9631 - val_loss: 21.6018 - val_mae: 2.9472\n",
            "Epoch 35/100\n",
            "51/51 [==============================] - 0s 4ms/step - loss: 7.7651 - mae: 1.9405 - val_loss: 19.5605 - val_mae: 2.6533\n",
            "Epoch 36/100\n",
            "51/51 [==============================] - 0s 5ms/step - loss: 7.2886 - mae: 1.9472 - val_loss: 18.0116 - val_mae: 2.6346\n",
            "Epoch 37/100\n",
            "51/51 [==============================] - 0s 4ms/step - loss: 7.5595 - mae: 1.8545 - val_loss: 21.6004 - val_mae: 2.9296\n",
            "Epoch 38/100\n",
            "51/51 [==============================] - 0s 4ms/step - loss: 7.6417 - mae: 1.8865 - val_loss: 20.3222 - val_mae: 2.7736\n",
            "Epoch 39/100\n",
            "51/51 [==============================] - 0s 3ms/step - loss: 7.2729 - mae: 1.9025 - val_loss: 20.3750 - val_mae: 2.7408\n",
            "Epoch 40/100\n",
            "51/51 [==============================] - 0s 3ms/step - loss: 7.4594 - mae: 1.9266 - val_loss: 20.6361 - val_mae: 2.8304\n",
            "Epoch 41/100\n",
            "51/51 [==============================] - 0s 2ms/step - loss: 7.2102 - mae: 1.8874 - val_loss: 18.9777 - val_mae: 2.8193\n",
            "Epoch 42/100\n",
            "51/51 [==============================] - 0s 3ms/step - loss: 7.3489 - mae: 1.9056 - val_loss: 19.5903 - val_mae: 2.7476\n",
            "Epoch 43/100\n",
            "51/51 [==============================] - 0s 3ms/step - loss: 6.9967 - mae: 1.8757 - val_loss: 19.4182 - val_mae: 2.6738\n",
            "Epoch 44/100\n",
            "51/51 [==============================] - 0s 3ms/step - loss: 6.8564 - mae: 1.8264 - val_loss: 20.4191 - val_mae: 2.8513\n",
            "Epoch 45/100\n",
            "51/51 [==============================] - 0s 3ms/step - loss: 6.8048 - mae: 1.8294 - val_loss: 19.2092 - val_mae: 2.6951\n",
            "Epoch 46/100\n",
            "51/51 [==============================] - 0s 3ms/step - loss: 6.7143 - mae: 1.8101 - val_loss: 22.2685 - val_mae: 2.8744\n",
            "Epoch 47/100\n",
            "51/51 [==============================] - 0s 3ms/step - loss: 6.7320 - mae: 1.8626 - val_loss: 17.8388 - val_mae: 2.6704\n",
            "Epoch 48/100\n",
            "51/51 [==============================] - 0s 3ms/step - loss: 6.8451 - mae: 1.8460 - val_loss: 18.8207 - val_mae: 2.7525\n",
            "Epoch 49/100\n",
            "51/51 [==============================] - 0s 3ms/step - loss: 6.7672 - mae: 1.8014 - val_loss: 19.0339 - val_mae: 2.6334\n",
            "Epoch 50/100\n",
            "51/51 [==============================] - 0s 3ms/step - loss: 6.7543 - mae: 1.8109 - val_loss: 18.2588 - val_mae: 2.5888\n",
            "Epoch 51/100\n",
            "51/51 [==============================] - 0s 3ms/step - loss: 6.6193 - mae: 1.8089 - val_loss: 17.1619 - val_mae: 2.5431\n",
            "Epoch 52/100\n",
            "51/51 [==============================] - 0s 3ms/step - loss: 6.6180 - mae: 1.7906 - val_loss: 18.7510 - val_mae: 2.6790\n",
            "Epoch 53/100\n",
            "51/51 [==============================] - 0s 3ms/step - loss: 6.6424 - mae: 1.8005 - val_loss: 18.6676 - val_mae: 2.7271\n",
            "Epoch 54/100\n",
            "51/51 [==============================] - 0s 3ms/step - loss: 6.4733 - mae: 1.7536 - val_loss: 19.7243 - val_mae: 2.8369\n",
            "Epoch 55/100\n",
            "51/51 [==============================] - 0s 3ms/step - loss: 6.5182 - mae: 1.7699 - val_loss: 17.2578 - val_mae: 2.5414\n",
            "Epoch 56/100\n",
            "51/51 [==============================] - 0s 3ms/step - loss: 6.3969 - mae: 1.7686 - val_loss: 18.9606 - val_mae: 2.6491\n",
            "Epoch 57/100\n",
            "51/51 [==============================] - 0s 3ms/step - loss: 6.3404 - mae: 1.7705 - val_loss: 18.1481 - val_mae: 2.6573\n",
            "Epoch 58/100\n",
            "51/51 [==============================] - 0s 3ms/step - loss: 6.2795 - mae: 1.7614 - val_loss: 16.6938 - val_mae: 2.4568\n",
            "Epoch 59/100\n",
            "51/51 [==============================] - 0s 3ms/step - loss: 6.1901 - mae: 1.7395 - val_loss: 18.2529 - val_mae: 2.5981\n",
            "Epoch 60/100\n",
            "51/51 [==============================] - 0s 3ms/step - loss: 6.0677 - mae: 1.7256 - val_loss: 16.6735 - val_mae: 2.5219\n",
            "Epoch 61/100\n",
            "51/51 [==============================] - 0s 3ms/step - loss: 6.0876 - mae: 1.7210 - val_loss: 17.9991 - val_mae: 2.6355\n",
            "Epoch 62/100\n",
            "51/51 [==============================] - 0s 3ms/step - loss: 5.9760 - mae: 1.7423 - val_loss: 19.5417 - val_mae: 2.8703\n",
            "Epoch 63/100\n",
            "51/51 [==============================] - 0s 3ms/step - loss: 6.1347 - mae: 1.7068 - val_loss: 18.9548 - val_mae: 2.7752\n",
            "Epoch 64/100\n",
            "51/51 [==============================] - 0s 2ms/step - loss: 5.8881 - mae: 1.6781 - val_loss: 20.5175 - val_mae: 2.8010\n",
            "Epoch 65/100\n",
            "51/51 [==============================] - 0s 3ms/step - loss: 5.8495 - mae: 1.6996 - val_loss: 17.1356 - val_mae: 2.5544\n",
            "Epoch 66/100\n",
            "51/51 [==============================] - 0s 3ms/step - loss: 5.9805 - mae: 1.7159 - val_loss: 18.8477 - val_mae: 2.8759\n",
            "Epoch 67/100\n",
            "51/51 [==============================] - 0s 3ms/step - loss: 5.7257 - mae: 1.6873 - val_loss: 16.0118 - val_mae: 2.5138\n",
            "Epoch 68/100\n",
            "51/51 [==============================] - 0s 3ms/step - loss: 5.6729 - mae: 1.6795 - val_loss: 17.4701 - val_mae: 2.6503\n",
            "Epoch 69/100\n",
            "51/51 [==============================] - 0s 3ms/step - loss: 5.8625 - mae: 1.6711 - val_loss: 17.4043 - val_mae: 2.5396\n",
            "Epoch 70/100\n",
            "51/51 [==============================] - 0s 3ms/step - loss: 5.6965 - mae: 1.6920 - val_loss: 17.2577 - val_mae: 2.5298\n",
            "Epoch 71/100\n",
            "51/51 [==============================] - 0s 3ms/step - loss: 5.6375 - mae: 1.6828 - val_loss: 17.6778 - val_mae: 2.6405\n",
            "Epoch 72/100\n",
            "51/51 [==============================] - 0s 3ms/step - loss: 5.6407 - mae: 1.6661 - val_loss: 17.5362 - val_mae: 2.5258\n",
            "Epoch 73/100\n",
            "51/51 [==============================] - 0s 3ms/step - loss: 5.5856 - mae: 1.6513 - val_loss: 18.3481 - val_mae: 2.7980\n",
            "Epoch 74/100\n",
            "51/51 [==============================] - 0s 3ms/step - loss: 5.4242 - mae: 1.6576 - val_loss: 17.5837 - val_mae: 2.6841\n",
            "Epoch 75/100\n",
            "51/51 [==============================] - 0s 3ms/step - loss: 5.4910 - mae: 1.6395 - val_loss: 17.4791 - val_mae: 2.6535\n",
            "Epoch 76/100\n",
            "51/51 [==============================] - 0s 3ms/step - loss: 5.4290 - mae: 1.6412 - val_loss: 17.3123 - val_mae: 2.6348\n",
            "Epoch 77/100\n",
            "51/51 [==============================] - 0s 3ms/step - loss: 5.3018 - mae: 1.6014 - val_loss: 16.3947 - val_mae: 2.5973\n",
            "Epoch 78/100\n",
            "51/51 [==============================] - 0s 3ms/step - loss: 5.4195 - mae: 1.6372 - val_loss: 15.9097 - val_mae: 2.4490\n",
            "Epoch 79/100\n",
            "51/51 [==============================] - 0s 3ms/step - loss: 5.3308 - mae: 1.6401 - val_loss: 16.2328 - val_mae: 2.4885\n",
            "Epoch 80/100\n",
            "51/51 [==============================] - 0s 3ms/step - loss: 5.1516 - mae: 1.6355 - val_loss: 16.1465 - val_mae: 2.5095\n",
            "Epoch 81/100\n",
            "51/51 [==============================] - 0s 3ms/step - loss: 5.1325 - mae: 1.6102 - val_loss: 15.7656 - val_mae: 2.4797\n",
            "Epoch 82/100\n",
            "51/51 [==============================] - 0s 3ms/step - loss: 5.1972 - mae: 1.5712 - val_loss: 15.7416 - val_mae: 2.4642\n",
            "Epoch 83/100\n",
            "51/51 [==============================] - 0s 3ms/step - loss: 5.1105 - mae: 1.5792 - val_loss: 17.7034 - val_mae: 2.6185\n",
            "Epoch 84/100\n",
            "51/51 [==============================] - 0s 3ms/step - loss: 5.0903 - mae: 1.5854 - val_loss: 16.6538 - val_mae: 2.5677\n",
            "Epoch 85/100\n",
            "51/51 [==============================] - 0s 3ms/step - loss: 5.0872 - mae: 1.6053 - val_loss: 16.9439 - val_mae: 2.6306\n",
            "Epoch 86/100\n",
            "51/51 [==============================] - 0s 3ms/step - loss: 4.8425 - mae: 1.5863 - val_loss: 20.9190 - val_mae: 2.9600\n",
            "Epoch 87/100\n",
            "51/51 [==============================] - 0s 3ms/step - loss: 5.0654 - mae: 1.6217 - val_loss: 15.9107 - val_mae: 2.5183\n",
            "Epoch 88/100\n",
            "51/51 [==============================] - 0s 3ms/step - loss: 4.9698 - mae: 1.5884 - val_loss: 16.6701 - val_mae: 2.7184\n",
            "Epoch 89/100\n",
            "51/51 [==============================] - 0s 3ms/step - loss: 4.7229 - mae: 1.5638 - val_loss: 18.3690 - val_mae: 2.7876\n",
            "Epoch 90/100\n",
            "51/51 [==============================] - 0s 3ms/step - loss: 4.9228 - mae: 1.5861 - val_loss: 21.0537 - val_mae: 2.9615\n",
            "Epoch 91/100\n",
            "51/51 [==============================] - 0s 3ms/step - loss: 4.7972 - mae: 1.5554 - val_loss: 16.1890 - val_mae: 2.6075\n",
            "Epoch 92/100\n",
            "51/51 [==============================] - 0s 3ms/step - loss: 4.7113 - mae: 1.5651 - val_loss: 14.6314 - val_mae: 2.4521\n",
            "Epoch 93/100\n",
            "51/51 [==============================] - 0s 3ms/step - loss: 4.6644 - mae: 1.5297 - val_loss: 14.0244 - val_mae: 2.3938\n",
            "Epoch 94/100\n",
            "51/51 [==============================] - 0s 3ms/step - loss: 4.6832 - mae: 1.5229 - val_loss: 18.0334 - val_mae: 2.9314\n",
            "Epoch 95/100\n",
            "51/51 [==============================] - 0s 3ms/step - loss: 4.5837 - mae: 1.5081 - val_loss: 15.3718 - val_mae: 2.4937\n",
            "Epoch 96/100\n",
            "51/51 [==============================] - 0s 3ms/step - loss: 4.6258 - mae: 1.5154 - val_loss: 16.6664 - val_mae: 2.6669\n",
            "Epoch 97/100\n",
            "51/51 [==============================] - 0s 3ms/step - loss: 4.6712 - mae: 1.5186 - val_loss: 17.5023 - val_mae: 2.8248\n",
            "Epoch 98/100\n",
            "51/51 [==============================] - 0s 3ms/step - loss: 4.6066 - mae: 1.5124 - val_loss: 15.6184 - val_mae: 2.5395\n",
            "Epoch 99/100\n",
            "51/51 [==============================] - 0s 3ms/step - loss: 4.5057 - mae: 1.4902 - val_loss: 15.0912 - val_mae: 2.4714\n",
            "Epoch 100/100\n",
            "51/51 [==============================] - 0s 3ms/step - loss: 4.2974 - mae: 1.4765 - val_loss: 16.0596 - val_mae: 2.6258\n"
          ]
        }
      ]
    },
    {
      "cell_type": "code",
      "source": [
        "# 모델 학습 히스토리에서 loss, val_loss, mae, val_mae를 차트로 보여줍니다.\n",
        "plt.style.use('seaborn-white')\n",
        "\n",
        "history_dict = history.history\n",
        "\n",
        "loss = history_dict['loss']\n",
        "val_loss = history_dict['val_loss']\n",
        "\n",
        "epochs = range(1, len(loss) + 1)\n",
        "fig = plt.figure(figsize=(12, 5))\n",
        "\n",
        "ax1 = fig.add_subplot(1, 2, 1)\n",
        "ax1.plot(epochs, loss, 'b-', label='train_loss')\n",
        "ax1.plot(epochs, val_loss, 'r-', label='val_loss')\n",
        "ax1.set_title('Train and Validation Loss')\n",
        "ax1.set_xlabel('Epochs')\n",
        "ax1.set_ylabel('Loss')\n",
        "ax1.grid()\n",
        "ax1.legend()\n",
        "\n",
        "mae = history_dict['mae']\n",
        "val_mae = history_dict['val_mae']\n",
        "\n",
        "ax2 = fig.add_subplot(1, 2, 2)\n",
        "ax2.plot(epochs, mae, 'b-', label='train_mae')\n",
        "ax2.plot(epochs, val_mae, 'r-', label='val_mae')\n",
        "ax2.set_title('Train and Validation MAE')\n",
        "ax2.set_xlabel('Epochs')\n",
        "ax2.set_ylabel('Accuracy')\n",
        "ax2.grid()\n",
        "ax2.legend()\n",
        "\n",
        "plt.show()"
      ],
      "metadata": {
        "colab": {
          "base_uri": "https://localhost:8080/",
          "height": 529
        },
        "id": "XGWlJRkmkuwy",
        "outputId": "822ce08d-9f0c-473c-e3d9-6956566302b8"
      },
      "execution_count": 35,
      "outputs": [
        {
          "output_type": "stream",
          "name": "stderr",
          "text": [
            "<ipython-input-35-eee1a1311e5a>:2: MatplotlibDeprecationWarning: The seaborn styles shipped by Matplotlib are deprecated since 3.6, as they no longer correspond to the styles shipped by seaborn. However, they will remain available as 'seaborn-v0_8-<style>'. Alternatively, directly use the seaborn API instead.\n",
            "  plt.style.use('seaborn-white')\n"
          ]
        },
        {
          "output_type": "display_data",
          "data": {
            "text/plain": [
              "<Figure size 1200x500 with 2 Axes>"
            ],
            "image/png": "[encoded data removed]"
          },
          "metadata": {}
        }
      ]
    },
    {
      "cell_type": "code",
      "source": [
        "model.evaluate(test_data, test_labels)"
      ],
      "metadata": {
        "colab": {
          "base_uri": "https://localhost:8080/"
        },
        "id": "XgrPPYS6lMQV",
        "outputId": "612f7a15-11b6-41f1-f847-a62d1e0682be"
      },
      "execution_count": 36,
      "outputs": [
        {
          "output_type": "stream",
          "name": "stdout",
          "text": [
            "4/4 [==============================] - 0s 4ms/step - loss: 16.0596 - mae: 2.6258\n"
          ]
        },
        {
          "output_type": "execute_result",
          "data": {
            "text/plain": [
              "[16.059646606445312, 2.6257708072662354]"
            ]
          },
          "metadata": {},
          "execution_count": 36
        }
      ]
    },
    {
      "cell_type": "code",
      "source": [],
      "metadata": {
        "id": "XMH2PjYMlV1N"
      },
      "execution_count": null,
      "outputs": []
    }
  ]
}