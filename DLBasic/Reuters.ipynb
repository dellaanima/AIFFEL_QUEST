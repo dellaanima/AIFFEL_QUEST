{
  "nbformat": 4,
  "nbformat_minor": 0,
  "metadata": {
    "colab": {
      "provenance": [],
      "toc_visible": true,
      "authorship_tag": "ABX9TyOKPPBfwcYcFNnMC4hHwLZY",
      "include_colab_link": true
    },
    "kernelspec": {
      "name": "python3",
      "display_name": "Python 3"
    },
    "language_info": {
      "name": "python"
    }
  },
  "cells": [
    {
      "cell_type": "markdown",
      "metadata": {
        "id": "view-in-github",
        "colab_type": "text"
      },
      "source": [
        "<a href=\"https://colab.research.google.com/github/dellaanima/AIFFEL_QUEST/blob/master/DLBasic/Reuters.ipynb\" target=\"_parent\"><img src=\"https://colab.research.google.com/assets/colab-badge.svg\" alt=\"Open In Colab\"/></a>"
      ]
    },
    {
      "cell_type": "markdown",
      "source": [
        "# 데이터 로드 및 전처리"
      ],
      "metadata": {
        "id": "fq0qsM89m4tC"
      }
    },
    {
      "cell_type": "code",
      "execution_count": 1,
      "metadata": {
        "id": "qnNr-zUYmqu4"
      },
      "outputs": [],
      "source": [
        "import numpy as np\n",
        "import matplotlib.pyplot as plt\n",
        "from sklearn.model_selection import train_test_split\n",
        "\n",
        "from tensorflow.keras import models, layers\n",
        "from tensorflow.keras import callbacks\n",
        "from tensorflow.keras import utils\n",
        "from keras.datasets import reuters"
      ]
    },
    {
      "cell_type": "code",
      "source": [
        "# 불러온 데이터를 학습셋, 테스트셋으로 나누기\n",
        "(X_train, Y_train), (X_test, Y_test) = reuters.load_data(num_words=1000, test_split=0.25)"
      ],
      "metadata": {
        "colab": {
          "base_uri": "https://localhost:8080/"
        },
        "id": "ys6F-3TDnZgz",
        "outputId": "d47a975f-fc18-4082-fd4a-79c8bb6d92ec"
      },
      "execution_count": 2,
      "outputs": [
        {
          "output_type": "stream",
          "name": "stdout",
          "text": [
            "Downloading data from https://storage.googleapis.com/tensorflow/tf-keras-datasets/reuters.npz\n",
            "2110848/2110848 [==============================] - 0s 0us/step\n"
          ]
        }
      ]
    },
    {
      "cell_type": "code",
      "source": [
        "from keras.datasets import reuters\n",
        "from keras.utils.np_utils import to_categorical\n",
        "from sklearn.model_selection import train_test_split\n",
        "\n",
        "# Reuters 데이터셋 로드\n",
        "(train_data, train_labels), (test_data, test_labels) = reuters.load_data(num_words=10000)\n",
        "\n",
        "# 훈련 데이터셋을 훈련 데이터와 검증 데이터로 분리 (25%를 검증 데이터로 설정)\n",
        "train_data, val_data, train_labels, val_labels = train_test_split(train_data, train_labels, test_size=0.25, random_state=42)\n",
        "\n",
        "# 훈련, 검증, 테스트 데이터와 레이블 종류의 개수 출력\n",
        "print(\"훈련 데이터 개수:\", len(train_data))\n",
        "print(\"검증 데이터 개수:\", len(val_data))\n",
        "print(\"테스트 데이터 개수:\", len(test_data))\n",
        "print(\"레이블 종류 개수:\", len(set(train_labels)))\n",
        "\n",
        "\n"
      ],
      "metadata": {
        "colab": {
          "base_uri": "https://localhost:8080/"
        },
        "id": "dV2frgQcnbMa",
        "outputId": "cd51c45b-aaad-4d1a-8954-32791855ac6e"
      },
      "execution_count": 5,
      "outputs": [
        {
          "output_type": "stream",
          "name": "stdout",
          "text": [
            "훈련 데이터 개수: 6736\n",
            "검증 데이터 개수: 2246\n",
            "테스트 데이터 개수: 2246\n",
            "레이블 종류 개수: 46\n"
          ]
        }
      ]
    },
    {
      "cell_type": "code",
      "source": [
        "import numpy as np\n",
        "\n",
        "def one_hot_encoding(data, dim=10000):\n",
        "    results = np.zeros((len(data), dim))\n",
        "    for i, sequence in enumerate(data):\n",
        "        results[i, sequence] = 1.\n",
        "    return results\n",
        "\n",
        "x_train = one_hot_encoding(train_data)\n",
        "x_val = one_hot_encoding(val_data)\n",
        "x_test = one_hot_encoding(test_data)\n",
        "\n",
        "# 레이블 데이터들은 범주형 형태로 to_categorical() 함수를 사용해 변환합니다.\n",
        "from keras.utils.np_utils import to_categorical\n",
        "\n",
        "one_hot_train_labels = to_categorical(train_labels)\n",
        "one_hot_val_labels = to_categorical(val_labels)\n",
        "one_hot_test_labels = to_categorical(test_labels)\n"
      ],
      "metadata": {
        "id": "ETDoVSaFoNPR"
      },
      "execution_count": 8,
      "outputs": []
    },
    {
      "cell_type": "markdown",
      "source": [
        "# 모델 구성 및 컴파일"
      ],
      "metadata": {
        "id": "1uNT8DTEqcF4"
      }
    },
    {
      "cell_type": "code",
      "source": [
        "from keras import models, layers\n",
        "\n",
        "# 신경망 모델 구성 (예시로 BatchNormalization과 Dropout 적용)\n",
        "model = models.Sequential()\n",
        "model.add(layers.Dense(64, activation='relu', input_shape=(10000,)))\n",
        "model.add(layers.BatchNormalization())  # BatchNormalization 추가\n",
        "model.add(layers.Dropout(0.5))          # Dropout 추가\n",
        "model.add(layers.Dense(64, activation='relu'))\n",
        "model.add(layers.BatchNormalization())  # BatchNormalization 추가\n",
        "model.add(layers.Dropout(0.5))          # Dropout 추가\n",
        "model.add(layers.Dense(46, activation='softmax'))\n",
        "\n",
        "# 모델 컴파일\n",
        "model.compile(optimizer='rmsprop', loss='categorical_crossentropy', metrics=['accuracy'])\n",
        "\n",
        "# 모델 구조 확인\n",
        "model.summary()\n"
      ],
      "metadata": {
        "colab": {
          "base_uri": "https://localhost:8080/"
        },
        "id": "qguAeFWnqZBO",
        "outputId": "68d51a08-19b4-4ec7-f7c3-c0079b7bf6a8"
      },
      "execution_count": 9,
      "outputs": [
        {
          "output_type": "stream",
          "name": "stdout",
          "text": [
            "Model: \"sequential\"\n",
            "_________________________________________________________________\n",
            " Layer (type)                Output Shape              Param #   \n",
            "=================================================================\n",
            " dense (Dense)               (None, 64)                640064    \n",
            "                                                                 \n",
            " batch_normalization (BatchN  (None, 64)               256       \n",
            " ormalization)                                                   \n",
            "                                                                 \n",
            " dropout (Dropout)           (None, 64)                0         \n",
            "                                                                 \n",
            " dense_1 (Dense)             (None, 64)                4160      \n",
            "                                                                 \n",
            " batch_normalization_1 (Batc  (None, 64)               256       \n",
            " hNormalization)                                                 \n",
            "                                                                 \n",
            " dropout_1 (Dropout)         (None, 64)                0         \n",
            "                                                                 \n",
            " dense_2 (Dense)             (None, 46)                2990      \n",
            "                                                                 \n",
            "=================================================================\n",
            "Total params: 647,726\n",
            "Trainable params: 647,470\n",
            "Non-trainable params: 256\n",
            "_________________________________________________________________\n"
          ]
        }
      ]
    },
    {
      "cell_type": "code",
      "source": [
        "from keras.callbacks import ModelCheckpoint, EarlyStopping\n",
        "\n",
        "# ModelCheckpoint 콜백 설정\n",
        "model_checkpoint = ModelCheckpoint('best_model.h5', monitor='val_loss', save_best_only=True)\n",
        "\n",
        "# EarlyStopping 콜백 설정\n",
        "early_stopping = EarlyStopping(monitor='val_loss', patience=6, restore_best_weights=True)\n",
        "\n",
        "# 모델 학습\n",
        "history = model.fit(x_train, one_hot_train_labels, epochs=100, batch_size=64, validation_data=(x_val, one_hot_val_labels), callbacks=[model_checkpoint, early_stopping])\n"
      ],
      "metadata": {
        "colab": {
          "base_uri": "https://localhost:8080/"
        },
        "id": "CuKoPyH4qkOi",
        "outputId": "75c6561e-13e8-4ada-a804-b11d3ab3581a"
      },
      "execution_count": 17,
      "outputs": [
        {
          "output_type": "stream",
          "name": "stdout",
          "text": [
            "Epoch 1/100\n",
            "106/106 [==============================] - 2s 20ms/step - loss: 0.5055 - accuracy: 0.8774 - val_loss: 1.0839 - val_accuracy: 0.8032\n",
            "Epoch 2/100\n",
            "106/106 [==============================] - 2s 17ms/step - loss: 0.4655 - accuracy: 0.8888 - val_loss: 1.0998 - val_accuracy: 0.8161\n",
            "Epoch 3/100\n",
            "106/106 [==============================] - 2s 18ms/step - loss: 0.4462 - accuracy: 0.8906 - val_loss: 1.1048 - val_accuracy: 0.8130\n",
            "Epoch 4/100\n",
            "106/106 [==============================] - 3s 24ms/step - loss: 0.4368 - accuracy: 0.8921 - val_loss: 1.0725 - val_accuracy: 0.8157\n",
            "Epoch 5/100\n",
            "106/106 [==============================] - 2s 19ms/step - loss: 0.4194 - accuracy: 0.8952 - val_loss: 1.0735 - val_accuracy: 0.8224\n",
            "Epoch 6/100\n",
            "106/106 [==============================] - 2s 20ms/step - loss: 0.4103 - accuracy: 0.8992 - val_loss: 1.0664 - val_accuracy: 0.8126\n",
            "Epoch 7/100\n",
            "106/106 [==============================] - 2s 18ms/step - loss: 0.3972 - accuracy: 0.9029 - val_loss: 1.0801 - val_accuracy: 0.8121\n",
            "Epoch 8/100\n",
            "106/106 [==============================] - 2s 18ms/step - loss: 0.3798 - accuracy: 0.9063 - val_loss: 1.0586 - val_accuracy: 0.8139\n",
            "Epoch 9/100\n",
            "106/106 [==============================] - 2s 18ms/step - loss: 0.3800 - accuracy: 0.9093 - val_loss: 1.1016 - val_accuracy: 0.8166\n",
            "Epoch 10/100\n",
            "106/106 [==============================] - 3s 26ms/step - loss: 0.3561 - accuracy: 0.9135 - val_loss: 1.0690 - val_accuracy: 0.8099\n",
            "Epoch 11/100\n",
            "106/106 [==============================] - 2s 19ms/step - loss: 0.3752 - accuracy: 0.9103 - val_loss: 1.1065 - val_accuracy: 0.8099\n",
            "Epoch 12/100\n",
            "106/106 [==============================] - 2s 18ms/step - loss: 0.3403 - accuracy: 0.9160 - val_loss: 1.0918 - val_accuracy: 0.8117\n",
            "Epoch 13/100\n",
            "106/106 [==============================] - 2s 17ms/step - loss: 0.3515 - accuracy: 0.9127 - val_loss: 1.0744 - val_accuracy: 0.8130\n",
            "Epoch 14/100\n",
            "106/106 [==============================] - 2s 18ms/step - loss: 0.3231 - accuracy: 0.9227 - val_loss: 1.0773 - val_accuracy: 0.8197\n"
          ]
        }
      ]
    },
    {
      "cell_type": "code",
      "source": [
        "# 학습 히스토리의 `loss`, `val_loss`, `accuracy`, `val_accuracy`를 차트로 시각화합니다.\n",
        "plt.style.use('seaborn-white')\n",
        "\n",
        "history_dict = history.history\n",
        "\n",
        "loss = history_dict['loss']\n",
        "val_loss = history_dict['val_loss']\n",
        "\n",
        "epochs = range(1, len(loss) + 1)\n",
        "fig = plt.figure(figsize=(12, 5))\n",
        "\n",
        "ax1 = fig.add_subplot(1, 2, 1)\n",
        "ax1.plot(epochs, loss, 'b-', label='train_loss')\n",
        "ax1.plot(epochs, val_loss, 'r-', label='val_loss')\n",
        "ax1.set_title('Train and Validation Loss')\n",
        "ax1.set_xlabel('Epochs')\n",
        "ax1.set_ylabel('Loss')\n",
        "ax1.grid()\n",
        "ax1.legend()\n",
        "\n",
        "accuracy = history_dict['accuracy']\n",
        "val_accuracy = history_dict['val_accuracy']\n",
        "\n",
        "ax2 = fig.add_subplot(1, 2, 2)\n",
        "ax2.plot(epochs, accuracy, 'b-', label='train_accuracy')\n",
        "ax2.plot(epochs, val_accuracy, 'r-', label='val_accuracy')\n",
        "ax2.set_title('Train and Validation Accuracy')\n",
        "ax2.set_xlabel('Epochs')\n",
        "ax2.set_ylabel('Accuracy')\n",
        "ax2.grid()\n",
        "ax2.legend()\n",
        "\n",
        "plt.show()"
      ],
      "metadata": {
        "colab": {
          "base_uri": "https://localhost:8080/",
          "height": 538
        },
        "id": "F84XjNcbqtyH",
        "outputId": "f71e5c98-b428-45d8-8523-671325121ff8"
      },
      "execution_count": 18,
      "outputs": [
        {
          "output_type": "stream",
          "name": "stderr",
          "text": [
            "<ipython-input-18-ef4da0309378>:2: MatplotlibDeprecationWarning: The seaborn styles shipped by Matplotlib are deprecated since 3.6, as they no longer correspond to the styles shipped by seaborn. However, they will remain available as 'seaborn-v0_8-<style>'. Alternatively, directly use the seaborn API instead.\n",
            "  plt.style.use('seaborn-white')\n"
          ]
        },
        {
          "output_type": "display_data",
          "data": {
            "text/plain": [
              "<Figure size 1200x500 with 2 Axes>"
            ],
            "image/png": "[encoded data removed]"
          },
          "metadata": {}
        }
      ]
    },
    {
      "cell_type": "code",
      "source": [
        "# 테스트 데이터셋을 이용해 모델 평가\n",
        "test_loss, test_accuracy = model.evaluate(x_test, one_hot_test_labels)\n",
        "\n",
        "print(\"테스트 데이터셋 손실:\", test_loss)\n",
        "print(\"테스트 데이터셋 정확도:\", test_accuracy)\n"
      ],
      "metadata": {
        "colab": {
          "base_uri": "https://localhost:8080/"
        },
        "id": "w8oLgqx5rYNM",
        "outputId": "f6214d6e-5ae8-468e-fca5-9d887c62e8b0"
      },
      "execution_count": 20,
      "outputs": [
        {
          "output_type": "stream",
          "name": "stdout",
          "text": [
            "71/71 [==============================] - 0s 4ms/step - loss: 1.1599 - accuracy: 0.7876\n",
            "테스트 데이터셋 손실: 1.15985107421875\n",
            "테스트 데이터셋 정확도: 0.7876224517822266\n"
          ]
        }
      ]
    },
    {
      "cell_type": "code",
      "source": [],
      "metadata": {
        "id": "2PVRdduGrYfl"
      },
      "execution_count": null,
      "outputs": []
    }
  ]
}